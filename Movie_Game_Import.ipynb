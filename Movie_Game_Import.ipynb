{
 "cells": [
  {
   "cell_type": "code",
   "execution_count": null,
   "id": "ba20a83b",
   "metadata": {},
   "outputs": [],
   "source": [
    "from movie_recommender_lib import *"
   ]
  },
  {
   "cell_type": "code",
   "execution_count": null,
   "id": "1accff54",
   "metadata": {},
   "outputs": [],
   "source": [
    "# Now run the game/recommendation\n",
    "# For example:\n",
    "# run_game()  # Or whatever your game function is named\n"
   ]
  }
 ],
 "metadata": {},
 "nbformat": 4,
 "nbformat_minor": 5
}
